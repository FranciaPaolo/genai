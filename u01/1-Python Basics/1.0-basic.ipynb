{
 "cells": [
  {
   "cell_type": "code",
   "execution_count": 1,
   "metadata": {},
   "outputs": [
    {
     "data": {
      "text/plain": [
       "'\\nthis is comment\\n'"
      ]
     },
     "execution_count": 1,
     "metadata": {},
     "output_type": "execute_result"
    }
   ],
   "source": [
    "## Basic rules\n",
    "'''\n",
    "this is comment\n",
    "'''"
   ]
  },
  {
   "cell_type": "code",
   "execution_count": 3,
   "metadata": {},
   "outputs": [
    {
     "name": "stdout",
     "output_type": "stream",
     "text": [
      "Paolo\n",
      "Mario\n"
     ]
    }
   ],
   "source": [
    "# Python is case sensitive\n",
    "name = \"Paolo\"\n",
    "Name = \"Mario\"\n",
    "print(name)\n",
    "print(Name)"
   ]
  },
  {
   "cell_type": "code",
   "execution_count": 8,
   "metadata": {},
   "outputs": [
    {
     "name": "stdout",
     "output_type": "stream",
     "text": [
      "greater than 30\n"
     ]
    }
   ],
   "source": [
    "# Indentation\n",
    "# 4 spaces or tab (Python doesn't use {})\n",
    "age = 32\n",
    "if age > 30:\n",
    "    print(\"greater than 30\")\n",
    "else:\n",
    "    print(\"less or equal to 30\")"
   ]
  },
  {
   "cell_type": "code",
   "execution_count": 10,
   "metadata": {},
   "outputs": [
    {
     "name": "stdout",
     "output_type": "stream",
     "text": [
      "55\n"
     ]
    }
   ],
   "source": [
    "# Line continuation\n",
    "total = 1+2+3+4+5+6+7+8 \\\n",
    "        +9+10\n",
    "\n",
    "print(total)"
   ]
  },
  {
   "cell_type": "code",
   "execution_count": 12,
   "metadata": {},
   "outputs": [],
   "source": [
    "# multiple statement\n",
    "x=5; y=6; z=2\n"
   ]
  },
  {
   "cell_type": "code",
   "execution_count": 14,
   "metadata": {},
   "outputs": [],
   "source": [
    "# types are assigned at runtime by the kernel\n",
    "age = 32 # is a integer\n",
    "name = \"paolo\" # is a string"
   ]
  },
  {
   "cell_type": "code",
   "execution_count": 17,
   "metadata": {},
   "outputs": [
    {
     "data": {
      "text/plain": [
       "int"
      ]
     },
     "execution_count": 17,
     "metadata": {},
     "output_type": "execute_result"
    }
   ],
   "source": [
    "type(age)"
   ]
  },
  {
   "cell_type": "code",
   "execution_count": 19,
   "metadata": {},
   "outputs": [
    {
     "name": "stdout",
     "output_type": "stream",
     "text": [
      "<class 'int'>\n",
      "<class 'str'>\n"
     ]
    }
   ],
   "source": [
    "# Type inference\n",
    "variable = 10\n",
    "print(type(variable))\n",
    "variable = \"test\"\n",
    "print(type(variable))"
   ]
  },
  {
   "cell_type": "code",
   "execution_count": 20,
   "metadata": {},
   "outputs": [
    {
     "name": "stdout",
     "output_type": "stream",
     "text": [
      "age:  4\n",
      "temperature:  36.5\n"
     ]
    }
   ],
   "source": [
    "# basic variable printing\n",
    "age=4\n",
    "temperature=36.5\n",
    "print(\"age: \",age)\n",
    "print(\"temperature: \",temperature)"
   ]
  },
  {
   "cell_type": "code",
   "execution_count": 21,
   "metadata": {},
   "outputs": [
    {
     "name": "stdout",
     "output_type": "stream",
     "text": [
      "<class 'str'>\n",
      "<class 'int'>\n",
      "<class 'float'>\n",
      "<class 'bool'>\n"
     ]
    }
   ],
   "source": [
    "# type conversion\n",
    "age=str(temperature)\n",
    "print(type(age))\n",
    "\n",
    "age=int(3)\n",
    "print(type(age))\n",
    "\n",
    "age=float(3)\n",
    "print(type(age))\n",
    "\n",
    "age=bool(0)\n",
    "print(type(age))"
   ]
  },
  {
   "cell_type": "code",
   "execution_count": null,
   "metadata": {},
   "outputs": [],
   "source": [
    "# get input\n",
    "print(\"Ecco il numero inserito\",input(\"inserisci un intero\"))"
   ]
  },
  {
   "cell_type": "code",
   "execution_count": 1,
   "metadata": {},
   "outputs": [
    {
     "data": {
      "text/plain": [
       "'hello this is number 5'"
      ]
     },
     "execution_count": 1,
     "metadata": {},
     "output_type": "execute_result"
    }
   ],
   "source": [
    "# String concatenate\n",
    "\"hello this is number \"+ str(5)"
   ]
  },
  {
   "cell_type": "code",
   "execution_count": 2,
   "metadata": {},
   "outputs": [
    {
     "data": {
      "text/plain": [
       "'ciaoxmamma'"
      ]
     },
     "execution_count": 2,
     "metadata": {},
     "output_type": "execute_result"
    }
   ],
   "source": [
    "# String strip (remove leading trailing characters)\n",
    "\"...ciao.mamma!\".strip(\".!\")"
   ]
  },
  {
   "cell_type": "code",
   "execution_count": null,
   "metadata": {},
   "outputs": [],
   "source": []
  },
  {
   "cell_type": "code",
   "execution_count": 28,
   "metadata": {},
   "outputs": [
    {
     "name": "stdout",
     "output_type": "stream",
     "text": [
      "floor_div (round to floor)  3\n",
      "modulus_div  3\n",
      "True\n",
      "False\n"
     ]
    }
   ],
   "source": [
    "# operation\n",
    "floor_div=11//3\n",
    "modulus_div=7%4\n",
    "\n",
    "print(\"floor_div (round to floor) \",floor_div)\n",
    "print(\"modulus_div \",modulus_div)\n",
    "\n",
    "# logical operators\n",
    "print(1==1 and 2==2)\n",
    "print(1==1 and not 2==2)"
   ]
  }
 ],
 "metadata": {
  "kernelspec": {
   "display_name": "Python 3",
   "language": "python",
   "name": "python3"
  },
  "language_info": {
   "codemirror_mode": {
    "name": "ipython",
    "version": 3
   },
   "file_extension": ".py",
   "mimetype": "text/x-python",
   "name": "python",
   "nbconvert_exporter": "python",
   "pygments_lexer": "ipython3",
   "version": "3.10.15"
  }
 },
 "nbformat": 4,
 "nbformat_minor": 2
}
