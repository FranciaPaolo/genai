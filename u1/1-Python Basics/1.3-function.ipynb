{
 "cells": [
  {
   "cell_type": "code",
   "execution_count": 3,
   "metadata": {},
   "outputs": [
    {
     "name": "stdout",
     "output_type": "stream",
     "text": [
      "the number is even\n"
     ]
    }
   ],
   "source": [
    "# Functions\n",
    "\n",
    "def even_or_odd(num):\n",
    "    \"\"\"Docstring\"\"\"\n",
    "    if num%2==0:\n",
    "        print(\"the number is even\")\n",
    "    else:\n",
    "        print(\"the number is odd\")\n",
    "\n",
    "even_or_odd(10)"
   ]
  },
  {
   "cell_type": "code",
   "execution_count": 7,
   "metadata": {},
   "outputs": [
    {
     "name": "stdout",
     "output_type": "stream",
     "text": [
      "Hello Pippo, provided paramenter count:0\n",
      "Hello Pippo, provided paramenter count:1\n"
     ]
    }
   ],
   "source": [
    "# Optional parameter\n",
    "def greet(name=\"Pippo\"):\n",
    "    print(f\"Hello {name}\")\n",
    "\n",
    "greet()\n",
    "greet(\"Pluto\")"
   ]
  },
  {
   "cell_type": "code",
   "execution_count": 8,
   "metadata": {},
   "outputs": [
    {
     "name": "stdout",
     "output_type": "stream",
     "text": [
      "Pluto\n"
     ]
    }
   ],
   "source": [
    "# Positional params\n",
    "def greet_args(*args):\n",
    "    for number in args:\n",
    "        print(number)\n",
    "\n",
    "greet_args()\n",
    "greet_args(\"Pluto\")"
   ]
  },
  {
   "cell_type": "code",
   "execution_count": 15,
   "metadata": {},
   "outputs": [
    {
     "name": "stdout",
     "output_type": "stream",
     "text": [
      "k name, v Pluto\n",
      "k country, v italy\n"
     ]
    }
   ],
   "source": [
    "# Positional arguments\n",
    "def greet_args_pos(**kwargs):\n",
    "    for key,val in kwargs.items():\n",
    "        print(f\"k {key}, v {val}\")\n",
    "\n",
    "greet_args_pos(name=\"Pluto\",country=\"italy\")"
   ]
  },
  {
   "cell_type": "code",
   "execution_count": 24,
   "metadata": {},
   "outputs": [
    {
     "name": "stdout",
     "output_type": "stream",
     "text": [
      "Tool short\n",
      "False\n",
      "True\n"
     ]
    }
   ],
   "source": [
    "def is_strong_password(password):\n",
    "    if len(password)<8:\n",
    "        print(\"Tool short\")\n",
    "        return False\n",
    "    \n",
    "    if not any (char.isdigit() for char in password):\n",
    "        print(\"No digits\")\n",
    "        return False\n",
    "    \n",
    "    if not any (char.islower() for char in password):\n",
    "        print(\"No lowercase\")\n",
    "        return False\n",
    "    \n",
    "    if not any (char.isupper() for char in password):\n",
    "        print(\"No uppercase\")\n",
    "        return False\n",
    "    \n",
    "    if not any (char in '!@°$^#()_+-*/' for char in password):\n",
    "        print(\"No special characters\")\n",
    "        return False\n",
    "    \n",
    "    return True\n",
    "\n",
    "print(is_strong_password(\"pluto\"))\n",
    "print(is_strong_password(\"Pluuuuto_1\"))\n",
    "\n",
    "    \n"
   ]
  },
  {
   "cell_type": "code",
   "execution_count": 28,
   "metadata": {},
   "outputs": [
    {
     "name": "stdout",
     "output_type": "stream",
     "text": [
      "6\n",
      "<map object at 0x7520080a0b20>\n"
     ]
    }
   ],
   "source": [
    "# Lambda functions\n",
    "# syntax\n",
    "# lambda arguments:expression\n",
    "\n",
    "addition=lambda a,b: a+b\n",
    "print(addition(1,5))\n",
    "\n",
    "numbers=[1,2,3,4,5,6]\n",
    "print(list(map(lambda x:x**2, numbers)))\n"
   ]
  },
  {
   "cell_type": "code",
   "execution_count": 31,
   "metadata": {},
   "outputs": [
    {
     "name": "stdout",
     "output_type": "stream",
     "text": [
      "[5, 7, 9]\n"
     ]
    }
   ],
   "source": [
    "# Map\n",
    "# function, arg1, ..., argn\n",
    "numbers1=[1,2,3]\n",
    "numbers2=[4,5,6]\n",
    "added_numbers=list(map(lambda x,y:x+y,numbers1,numbers2))\n",
    "print(added_numbers)"
   ]
  },
  {
   "cell_type": "code",
   "execution_count": 32,
   "metadata": {},
   "outputs": [
    {
     "name": "stdout",
     "output_type": "stream",
     "text": [
      "['APPLE', 'BANANA', 'CHERRY']\n"
     ]
    }
   ],
   "source": [
    "words=['apple','banana','cherry']\n",
    "upper_words=list(map(str.upper,words))\n",
    "print(upper_words)"
   ]
  },
  {
   "cell_type": "code",
   "execution_count": 38,
   "metadata": {},
   "outputs": [
    {
     "name": "stdout",
     "output_type": "stream",
     "text": [
      "[2, 4, 6, 8, 10]\n"
     ]
    }
   ],
   "source": [
    "# Filter\n",
    "lst=[1,2,3,4,5,6,7,8,9,10]\n",
    "\n",
    "is_multiple2=lambda x:x%2==0\n",
    "print(list(filter(is_multiple2,lst)))\n"
   ]
  }
 ],
 "metadata": {
  "kernelspec": {
   "display_name": "Python 3",
   "language": "python",
   "name": "python3"
  },
  "language_info": {
   "codemirror_mode": {
    "name": "ipython",
    "version": 3
   },
   "file_extension": ".py",
   "mimetype": "text/x-python",
   "name": "python",
   "nbconvert_exporter": "python",
   "pygments_lexer": "ipython3",
   "version": "3.10.15"
  }
 },
 "nbformat": 4,
 "nbformat_minor": 2
}
