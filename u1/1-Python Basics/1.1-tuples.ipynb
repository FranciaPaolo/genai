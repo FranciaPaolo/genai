{
 "cells": [
  {
   "cell_type": "code",
   "execution_count": 22,
   "metadata": {},
   "outputs": [
    {
     "name": "stdout",
     "output_type": "stream",
     "text": [
      "()\n",
      "<class 'tuple'>\n",
      "\n",
      "\n",
      "(1, 2, 3, 4, 5, 6)\n",
      "<class 'tuple'>\n"
     ]
    }
   ],
   "source": [
    "## tuples are immutables,\n",
    "## this is the main difference compared to lists\n",
    "empty_tuple=() # same as = tuple()\n",
    "print(empty_tuple)\n",
    "print(type(empty_tuple))\n",
    "\n",
    "tpl=(1,2,3,4,5,6)\n",
    "print(\"\\n\")\n",
    "print(tpl)\n",
    "print(type(tpl))"
   ]
  },
  {
   "cell_type": "code",
   "execution_count": 8,
   "metadata": {},
   "outputs": [
    {
     "name": "stdout",
     "output_type": "stream",
     "text": [
      "(1, 2, 3, 'hello', True)\n",
      "<class 'tuple'>\n"
     ]
    },
    {
     "data": {
      "text/plain": [
       "True"
      ]
     },
     "execution_count": 8,
     "metadata": {},
     "output_type": "execute_result"
    }
   ],
   "source": [
    "# mixed tuple\n",
    "mixed_tuple = (1,2,3,\"hello\", True)\n",
    "print(mixed_tuple)\n",
    "print(type(mixed_tuple))\n",
    "\n",
    "mixed_tuple[2]\n",
    "mixed_tuple[-1]"
   ]
  },
  {
   "cell_type": "code",
   "execution_count": 13,
   "metadata": {},
   "outputs": [
    {
     "data": {
      "text/plain": [
       "[1, 2, 3, 4]"
      ]
     },
     "execution_count": 13,
     "metadata": {},
     "output_type": "execute_result"
    }
   ],
   "source": [
    "# slice: from 0 included to 4 excluded\n",
    "tpl[0:4]"
   ]
  },
  {
   "cell_type": "code",
   "execution_count": 14,
   "metadata": {},
   "outputs": [
    {
     "name": "stdout",
     "output_type": "stream",
     "text": [
      "[6, 5, 4, 3, 2, 1]\n"
     ]
    }
   ],
   "source": [
    "# reverse\n",
    "print(tpl[::-1])"
   ]
  },
  {
   "cell_type": "code",
   "execution_count": 23,
   "metadata": {},
   "outputs": [
    {
     "name": "stdout",
     "output_type": "stream",
     "text": [
      "(1, 2, 3, 4, 5, 6, 1, 2, 3, 'hello', True)\n",
      "<class 'tuple'>\n"
     ]
    }
   ],
   "source": [
    "# concatenate tuples\n",
    "concatenate_tuple=tpl + mixed_tuple\n",
    "print(concatenate_tuple)\n",
    "print(type(tpl))"
   ]
  },
  {
   "cell_type": "code",
   "execution_count": 25,
   "metadata": {},
   "outputs": [
    {
     "data": {
      "text/plain": [
       "(1, 2, 3, 'hello', True, 1, 2, 3, 'hello', True, 1, 2, 3, 'hello', True)"
      ]
     },
     "execution_count": 25,
     "metadata": {},
     "output_type": "execute_result"
    }
   ],
   "source": [
    "mixed_tuple*3"
   ]
  },
  {
   "cell_type": "code",
   "execution_count": 26,
   "metadata": {},
   "outputs": [
    {
     "ename": "TypeError",
     "evalue": "'tuple' object does not support item assignment",
     "output_type": "error",
     "traceback": [
      "\u001b[0;31m---------------------------------------------------------------------------\u001b[0m",
      "\u001b[0;31mTypeError\u001b[0m                                 Traceback (most recent call last)",
      "Cell \u001b[0;32mIn[26], line 1\u001b[0m\n\u001b[0;32m----> 1\u001b[0m \u001b[43mmixed_tuple\u001b[49m\u001b[43m[\u001b[49m\u001b[38;5;241;43m1\u001b[39;49m\u001b[43m]\u001b[49m\u001b[38;5;241m=\u001b[39m\u001b[38;5;241m2\u001b[39m\n",
      "\u001b[0;31mTypeError\u001b[0m: 'tuple' object does not support item assignment"
     ]
    }
   ],
   "source": [
    "# Immutable nature: ERROR because assignment is not supported\n",
    "mixed_tuple[1]=2"
   ]
  },
  {
   "cell_type": "code",
   "execution_count": 33,
   "metadata": {},
   "outputs": [
    {
     "name": "stdout",
     "output_type": "stream",
     "text": [
      "number of occurences of '1':  1\n",
      "index of '1':  0\n"
     ]
    }
   ],
   "source": [
    "#Tuples methods\n",
    "print(\"number of occurences of '1': \",tpl.count(1))\n",
    "print(\"index of '1': \",tpl.index(1))"
   ]
  },
  {
   "cell_type": "code",
   "execution_count": 36,
   "metadata": {},
   "outputs": [
    {
     "name": "stdout",
     "output_type": "stream",
     "text": [
      "(1, 'hello', 3.14)\n",
      "1\n",
      "hello\n",
      "3.14\n"
     ]
    }
   ],
   "source": [
    "#Tuples Packing and Unpacking methods\n",
    "packed_tuple=1,\"hello\",3.14\n",
    "print(packed_tuple)\n",
    "\n",
    "# Unpack\n",
    "a,b,c,=packed_tuple\n",
    "print(a)\n",
    "print(b)\n",
    "print(c)"
   ]
  },
  {
   "cell_type": "code",
   "execution_count": 39,
   "metadata": {},
   "outputs": [
    {
     "name": "stdout",
     "output_type": "stream",
     "text": [
      "first  1\n",
      "middle  [2, 3, 4, 5]\n",
      "last  6\n"
     ]
    }
   ],
   "source": [
    "#Tuples Unpacking with *\n",
    "numbers=(1,2,3,4,5,6)\n",
    "first,*middle,last=numbers\n",
    "\n",
    "print(\"first \",first)\n",
    "print(\"middle \",middle)\n",
    "print(\"last \",last)"
   ]
  },
  {
   "cell_type": "code",
   "execution_count": 42,
   "metadata": {},
   "outputs": [
    {
     "name": "stdout",
     "output_type": "stream",
     "text": [
      "[6, 7, 8, 9]\n",
      "9\n",
      "[6, 7, 8]\n"
     ]
    }
   ],
   "source": [
    "# Nested List\n",
    "lst=[[1,2,3,4],[6,7,8,9],[1,\"hello\",3.13,\"c\"]]\n",
    "print(lst[1])\n",
    "print(lst[1][3])\n",
    "print(lst[1][0:3])\n",
    "\n"
   ]
  },
  {
   "cell_type": "code",
   "execution_count": 45,
   "metadata": {},
   "outputs": [
    {
     "name": "stdout",
     "output_type": "stream",
     "text": [
      "(6, 7, 8, 9)\n",
      "9\n",
      "(6, 7, 8)\n"
     ]
    }
   ],
   "source": [
    "# Nested Tuples\n",
    "nested_tpl=((1,2,3,4),(6,7,8,9),(1,\"hello\",3.13,\"c\"))\n",
    "print(lst[1])\n",
    "print(lst[1][3])\n",
    "print(lst[1][0:3])\n",
    "\n"
   ]
  },
  {
   "cell_type": "code",
   "execution_count": 47,
   "metadata": {},
   "outputs": [
    {
     "name": "stdout",
     "output_type": "stream",
     "text": [
      "1 2 3 4 6 7 8 9 1 hello 3.13 c "
     ]
    }
   ],
   "source": [
    "# iterating over nested tuples\n",
    "for sub_tuple in nested_tpl:\n",
    "    for item in sub_tuple:\n",
    "        print(item,end=\" \")"
   ]
  }
 ],
 "metadata": {
  "kernelspec": {
   "display_name": "Python 3",
   "language": "python",
   "name": "python3"
  },
  "language_info": {
   "codemirror_mode": {
    "name": "ipython",
    "version": 3
   },
   "file_extension": ".py",
   "mimetype": "text/x-python",
   "name": "python",
   "nbconvert_exporter": "python",
   "pygments_lexer": "ipython3",
   "version": "3.10.15"
  }
 },
 "nbformat": 4,
 "nbformat_minor": 2
}
