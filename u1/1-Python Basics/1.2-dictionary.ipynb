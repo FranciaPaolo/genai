{
 "cells": [
  {
   "cell_type": "code",
   "execution_count": 3,
   "metadata": {},
   "outputs": [
    {
     "name": "stdout",
     "output_type": "stream",
     "text": [
      "{'name': 'Jim', 'age': 21, 'grade': 'A'}\n",
      "<class 'dict'>\n",
      "21\n",
      "21\n",
      "not found\n"
     ]
    }
   ],
   "source": [
    "# Dictionary basics\n",
    "students={\"name\":\"Jim\",\"age\":21,\"grade\":\"A\"}\n",
    "print(students)\n",
    "print(type(students))\n",
    "\n",
    "\n",
    "print(students['age'])\n",
    "print(students.get('age'))\n",
    "print(students.get('cognome',\"not found\"))\n"
   ]
  },
  {
   "cell_type": "code",
   "execution_count": 4,
   "metadata": {},
   "outputs": [
    {
     "name": "stdout",
     "output_type": "stream",
     "text": [
      "{'name': 'Jim', 'age': 33, 'grade': 'A'}\n",
      "{'name': 'Jim', 'age': 33}\n",
      "{'name': 'Jim', 'age': 33, 'grade': 'A'}\n",
      "\n",
      "keys dict_keys(['name', 'age', 'grade'])\n",
      "\n",
      "values dict_values(['Jim', 33, 'A'])\n",
      "\n",
      "items dict_items([('name', 'Jim'), ('age', 33), ('grade', 'A')])\n",
      "\n",
      "items <class 'dict_items'>\n"
     ]
    }
   ],
   "source": [
    "# Dictionary methods\n",
    "students[\"age\"]=33\n",
    "students[\"grade\"] = \"A\"\n",
    "print(students)\n",
    "\n",
    "del students[\"grade\"]\n",
    "print(students)\n",
    "\n",
    "students[\"grade\"] = \"A\"\n",
    "print(students)\n",
    "\n",
    "print(\"\\nkeys\",students.keys())\n",
    "print(\"\\nvalues\",students.values())\n",
    "print(\"\\nitems\",students.items())\n",
    "print(\"\\nitems\",type(students.items()))\n"
   ]
  },
  {
   "cell_type": "code",
   "execution_count": 5,
   "metadata": {},
   "outputs": [
    {
     "name": "stdout",
     "output_type": "stream",
     "text": [
      "{'name': 'Jim', 'age': 33, 'grade': 'A'}\n",
      "{'name': 'Jim', 'age': 33, 'grade': 'A'}\n",
      "{'name': 'Jim', 'age': 33, 'grade': 'A'}\n",
      "{'name': 'Martin', 'age': 33, 'grade': 'A'}\n"
     ]
    }
   ],
   "source": [
    "# shallow copy\n",
    "# if I used students_copy=students it copies the reference\n",
    "students_copy=students.copy()\n",
    "print(students)\n",
    "print(students_copy)\n",
    "\n",
    "students_copy[\"name\"]=\"Martin\"\n",
    "print(students)\n",
    "print(students_copy)\n"
   ]
  },
  {
   "cell_type": "code",
   "execution_count": 6,
   "metadata": {},
   "outputs": [
    {
     "name": "stdout",
     "output_type": "stream",
     "text": [
      "name\n",
      "age\n",
      "grade\n",
      "Jim\n",
      "33\n",
      "A\n",
      "item name,Jim\n",
      "item age,33\n",
      "item grade,A\n"
     ]
    }
   ],
   "source": [
    "# Iterating over tuples\n",
    "for key in students.keys():\n",
    "    print(key)\n",
    "\n",
    "for val in students.values():\n",
    "    print(val)\n",
    "\n",
    "for key,val in students.items():\n",
    "    print(f\"item {key},{val}\")\n",
    "     "
   ]
  },
  {
   "cell_type": "code",
   "execution_count": 30,
   "metadata": {},
   "outputs": [
    {
     "name": "stdout",
     "output_type": "stream",
     "text": [
      "{0: 0, 2: 4, 4: 16}\n"
     ]
    }
   ],
   "source": [
    "# Dictionary generation\n",
    "squares={x:x**2 for x in range(5) if x%2==0}\n",
    "print(squares)"
   ]
  },
  {
   "cell_type": "code",
   "execution_count": 8,
   "metadata": {},
   "outputs": [
    {
     "name": "stdout",
     "output_type": "stream",
     "text": [
      "{'a': 1, 'b': 2, 'c': 3, 'd': 4}\n"
     ]
    }
   ],
   "source": [
    "# merge dictionaries\n",
    "dict1={\"a\":1,\"b\":2}\n",
    "dict2={\"c\":3,\"d\":4}\n",
    "merged_dict={**dict1,**dict2}\n",
    "print(merged_dict)\n"
   ]
  },
  {
   "cell_type": "code",
   "execution_count": 7,
   "metadata": {},
   "outputs": [
    {
     "name": "stdout",
     "output_type": "stream",
     "text": [
      "{1: 1, 2: 3, 3: 3, 4: 6}\n",
      "avg: 86.6\n",
      "78 is in list\n",
      "79 is not in list\n"
     ]
    }
   ],
   "source": [
    "# Pratical usages\n",
    "\n",
    "# Use dictionary to count frequency of elements\n",
    "numbers=[1,2,2,2,3,3,3,4,4,4,4,4,4]\n",
    "frequency={}\n",
    "\n",
    "i=0\n",
    "for number in numbers:\n",
    "    frequency[number]=numbers.count(number)\n",
    "    i+=1\n",
    "\n",
    "print(frequency)\n",
    "\n",
    "\n",
    "# list\n",
    "grades = [85,92,78,90,88]\n",
    "print(f\"avg: {sum(grades)/len(grades)}\")\n",
    "\n",
    "if(78 in grades):\n",
    "    print(\"78 is in list\")\n",
    "\n",
    "if not(79 in grades):\n",
    "    print(\"79 is not in list\")"
   ]
  }
 ],
 "metadata": {
  "kernelspec": {
   "display_name": "Python 3",
   "language": "python",
   "name": "python3"
  },
  "language_info": {
   "codemirror_mode": {
    "name": "ipython",
    "version": 3
   },
   "file_extension": ".py",
   "mimetype": "text/x-python",
   "name": "python",
   "nbconvert_exporter": "python",
   "pygments_lexer": "ipython3",
   "version": "3.10.15"
  }
 },
 "nbformat": 4,
 "nbformat_minor": 2
}
