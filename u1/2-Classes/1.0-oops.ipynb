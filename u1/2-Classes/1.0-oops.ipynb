{
 "cells": [
  {
   "cell_type": "code",
   "execution_count": null,
   "metadata": {},
   "outputs": [],
   "source": [
    "# class declaration\n",
    "\n",
    "from abc import abstractmethod\n",
    "\n",
    "\n",
    "class Car:\n",
    "    # constructor\n",
    "    def __init__(self,windows,doors,enginetype):\n",
    "        self.windows=windows\n",
    "        self.doors=doors\n",
    "        self.enginetype=enginetype\n",
    "        self.velocity=0\n",
    "        self._model=\"none\" # protected variable\n",
    "        self.__supermodel=\"none\" # private variable\n",
    "\n",
    "    def accelerate(self,kmh):\n",
    "        self.velocity=self.velocity+kmh\n",
    "\n",
    "    def drive(self):\n",
    "        print(f\"Will drive {self.enginetype}\")\n",
    "\n",
    "    @abstractmethod\n",
    "    def startengine(self):\n",
    "        pass\n",
    "\n",
    "audi=Car(4,10,\"petrol\")\n",
    "bmw=Car(3,5,\"eletric\")\n",
    "\n",
    "audi.windows=4\n",
    "dir(audi)"
   ]
  },
  {
   "cell_type": "code",
   "execution_count": 23,
   "metadata": {},
   "outputs": [
    {
     "name": "stdout",
     "output_type": "stream",
     "text": [
      "Tesla supports self drive\n",
      "Tesla started\n",
      "tesla accelerate\n",
      "<__main__.Tesla object at 0x7e3330316ae0>\n"
     ]
    }
   ],
   "source": [
    "# inheritance\n",
    "class Tesla(Car):\n",
    "    def __init__(self,windows, doors, enginetype, is_selfdriving):\n",
    "        super().__init__(windows,doors,enginetype)\n",
    "        self.is_selfdriving=is_selfdriving\n",
    "        self._model=\"Tesla\"\n",
    "\n",
    "    def selfdriving(self):\n",
    "        if(self.is_selfdriving):\n",
    "            print(\"Tesla supports self drive\")\n",
    "        else:\n",
    "            print(\"Tesla doesn't supports self drive\")\n",
    "\n",
    "    def accelerate(self,kmh):\n",
    "        self.velocity=self.velocity+kmh\n",
    "        print(\"tesla accelerate\")\n",
    "\n",
    "    def startengine(self):\n",
    "        print(\"Tesla started\")\n",
    "\n",
    "tesla1=Tesla(4,4,\"eletric\",True)\n",
    "tesla1.selfdriving()\n",
    "tesla1.startengine()\n",
    "tesla1.accelerate(10)\n",
    "print(tesla1)\n"
   ]
  },
  {
   "cell_type": "code",
   "execution_count": 24,
   "metadata": {},
   "outputs": [],
   "source": [
    "### Magic methods\n",
    "# you can override them:\n",
    "# __init__\n",
    "# __str__\n",
    "# __repr__\n",
    "# __len__\n",
    "# __getitem__\n",
    "# __setitem__\n"
   ]
  },
  {
   "cell_type": "code",
   "execution_count": null,
   "metadata": {},
   "outputs": [],
   "source": [
    "### Common operator overloading\n",
    "# you can override them:\n",
    "# __add__\n",
    "# __sub__\n",
    "# __mul__\n",
    "# __truediv__\n",
    "# __eq__\n",
    "# __lt__"
   ]
  }
 ],
 "metadata": {
  "kernelspec": {
   "display_name": "Python 3",
   "language": "python",
   "name": "python3"
  },
  "language_info": {
   "codemirror_mode": {
    "name": "ipython",
    "version": 3
   },
   "file_extension": ".py",
   "mimetype": "text/x-python",
   "name": "python",
   "nbconvert_exporter": "python",
   "pygments_lexer": "ipython3",
   "version": "3.12.4"
  }
 },
 "nbformat": 4,
 "nbformat_minor": 2
}
